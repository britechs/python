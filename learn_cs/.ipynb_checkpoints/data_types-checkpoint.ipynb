{
 "cells": [
  {
   "cell_type": "code",
   "execution_count": null,
   "id": "4d3c641e",
   "metadata": {},
   "outputs": [],
   "source": [
    "#learn python data structure"
   ]
  },
  {
   "cell_type": "code",
   "execution_count": null,
   "id": "9544d3ae",
   "metadata": {},
   "outputs": [],
   "source": [
    "#data type"
   ]
  },
  {
   "cell_type": "code",
   "execution_count": 10,
   "id": "8268dd58",
   "metadata": {},
   "outputs": [],
   "source": [
    "#Integer, Float, String, List, Tuple, Dictionary\n",
    "a=10\n",
    "b=10.0\n",
    "c=\"10.0\"\n",
    "d=[10]\n",
    "e=(10,10)\n",
    "f={10}"
   ]
  },
  {
   "cell_type": "code",
   "execution_count": 4,
   "id": "221f5d81",
   "metadata": {},
   "outputs": [
    {
     "data": {
      "text/plain": [
       "int"
      ]
     },
     "execution_count": 4,
     "metadata": {},
     "output_type": "execute_result"
    }
   ],
   "source": [
    "type(a)"
   ]
  },
  {
   "cell_type": "code",
   "execution_count": 5,
   "id": "692fde07",
   "metadata": {},
   "outputs": [
    {
     "data": {
      "text/plain": [
       "float"
      ]
     },
     "execution_count": 5,
     "metadata": {},
     "output_type": "execute_result"
    }
   ],
   "source": [
    "type(b)"
   ]
  },
  {
   "cell_type": "code",
   "execution_count": 6,
   "id": "abd73663",
   "metadata": {},
   "outputs": [
    {
     "data": {
      "text/plain": [
       "str"
      ]
     },
     "execution_count": 6,
     "metadata": {},
     "output_type": "execute_result"
    }
   ],
   "source": [
    "type(c)"
   ]
  },
  {
   "cell_type": "code",
   "execution_count": 7,
   "id": "41c9a298",
   "metadata": {},
   "outputs": [
    {
     "data": {
      "text/plain": [
       "list"
      ]
     },
     "execution_count": 7,
     "metadata": {},
     "output_type": "execute_result"
    }
   ],
   "source": [
    "type(d)\n"
   ]
  },
  {
   "cell_type": "code",
   "execution_count": 11,
   "id": "2ce86794",
   "metadata": {},
   "outputs": [
    {
     "data": {
      "text/plain": [
       "tuple"
      ]
     },
     "execution_count": 11,
     "metadata": {},
     "output_type": "execute_result"
    }
   ],
   "source": [
    "type(e)"
   ]
  },
  {
   "cell_type": "code",
   "execution_count": 12,
   "id": "e8b3386e",
   "metadata": {},
   "outputs": [
    {
     "data": {
      "text/plain": [
       "(int, tuple)"
      ]
     },
     "execution_count": 12,
     "metadata": {},
     "output_type": "execute_result"
    }
   ],
   "source": [
    "type((10)), type((10,))"
   ]
  },
  {
   "cell_type": "code",
   "execution_count": 9,
   "id": "f3fec87b",
   "metadata": {},
   "outputs": [
    {
     "data": {
      "text/plain": [
       "set"
      ]
     },
     "execution_count": 9,
     "metadata": {},
     "output_type": "execute_result"
    }
   ],
   "source": [
    "type(f)"
   ]
  },
  {
   "cell_type": "code",
   "execution_count": 13,
   "id": "d568faf5",
   "metadata": {},
   "outputs": [],
   "source": [
    "#type conversion"
   ]
  },
  {
   "cell_type": "code",
   "execution_count": 21,
   "id": "aff3d55d",
   "metadata": {},
   "outputs": [
    {
     "data": {
      "text/plain": [
       "(10, int)"
      ]
     },
     "execution_count": 21,
     "metadata": {},
     "output_type": "execute_result"
    }
   ],
   "source": [
    "#convert float to int\n",
    "int(10.55), type(int(b))"
   ]
  },
  {
   "cell_type": "code",
   "execution_count": 24,
   "id": "c9eaf9b5",
   "metadata": {},
   "outputs": [
    {
     "data": {
      "text/plain": [
       "-4"
      ]
     },
     "execution_count": 24,
     "metadata": {},
     "output_type": "execute_result"
    }
   ],
   "source": [
    "round(-3.9)"
   ]
  },
  {
   "cell_type": "code",
   "execution_count": 25,
   "id": "85586e06",
   "metadata": {},
   "outputs": [],
   "source": [
    "#write a function to convert float to rounding int, for example, round(3.8)=4\n",
    "def myround(f):\n",
    "    if(f==0): return 0\n",
    "    fi = int(f)\n",
    "    \n",
    "    if abs(f-fi)>0.5:\n",
    "        return fi+f/abs(f)\n",
    "    else:\n",
    "        return fi"
   ]
  },
  {
   "cell_type": "code",
   "execution_count": 28,
   "id": "49ec7191",
   "metadata": {},
   "outputs": [
    {
     "data": {
      "text/plain": [
       "(-4.0, 4.0, 1, 2, 0)"
      ]
     },
     "execution_count": 28,
     "metadata": {},
     "output_type": "execute_result"
    }
   ],
   "source": [
    "myround(-3.9), myround(3.9), myround(1), myround(2), myround(0)"
   ]
  },
  {
   "cell_type": "code",
   "execution_count": 16,
   "id": "66cfdf3c",
   "metadata": {},
   "outputs": [],
   "source": [
    "z=(10,10)"
   ]
  },
  {
   "cell_type": "code",
   "execution_count": 19,
   "id": "53e3aa34",
   "metadata": {},
   "outputs": [],
   "source": [
    "#extract tuple, unpack\n",
    "z0,_=z"
   ]
  },
  {
   "cell_type": "code",
   "execution_count": 20,
   "id": "b7e158e0",
   "metadata": {},
   "outputs": [
    {
     "data": {
      "text/plain": [
       "10"
      ]
     },
     "execution_count": 20,
     "metadata": {},
     "output_type": "execute_result"
    }
   ],
   "source": [
    "z0"
   ]
  },
  {
   "cell_type": "code",
   "execution_count": 29,
   "id": "3490e32e",
   "metadata": {},
   "outputs": [],
   "source": [
    "#int to list\n",
    "alist = [a]"
   ]
  },
  {
   "cell_type": "code",
   "execution_count": 31,
   "id": "7b32f4ca",
   "metadata": {},
   "outputs": [
    {
     "data": {
      "text/plain": [
       "([10], list)"
      ]
     },
     "execution_count": 31,
     "metadata": {},
     "output_type": "execute_result"
    }
   ],
   "source": [
    "alist, type(alist)"
   ]
  },
  {
   "cell_type": "code",
   "execution_count": 32,
   "id": "9fee6437",
   "metadata": {},
   "outputs": [],
   "source": [
    "#list can have duplicates\n",
    "alist=[a,a,b,b,c,c,d,d]"
   ]
  },
  {
   "cell_type": "code",
   "execution_count": 33,
   "id": "a4a0b700",
   "metadata": {},
   "outputs": [
    {
     "data": {
      "text/plain": [
       "[10, 10, 10.0, 10.0, '10.0', '10.0', [10], [10]]"
      ]
     },
     "execution_count": 33,
     "metadata": {},
     "output_type": "execute_result"
    }
   ],
   "source": [
    "alist"
   ]
  },
  {
   "cell_type": "code",
   "execution_count": null,
   "id": "c6cbbd6d",
   "metadata": {},
   "outputs": [],
   "source": [
    "#access list, add/update/delete list"
   ]
  },
  {
   "cell_type": "code",
   "execution_count": 34,
   "id": "eb83d924",
   "metadata": {},
   "outputs": [],
   "source": [
    "#split list, first 5 elements in alist to blist, others to clist\n",
    "blist=alist[:4]\n",
    "clist=alist[4:]"
   ]
  },
  {
   "cell_type": "code",
   "execution_count": 35,
   "id": "69573ba3",
   "metadata": {},
   "outputs": [
    {
     "data": {
      "text/plain": [
       "([10, 10, 10.0, 10.0], ['10.0', '10.0', [10], [10]])"
      ]
     },
     "execution_count": 35,
     "metadata": {},
     "output_type": "execute_result"
    }
   ],
   "source": [
    "blist,clist"
   ]
  },
  {
   "cell_type": "code",
   "execution_count": 45,
   "id": "a215c311",
   "metadata": {},
   "outputs": [],
   "source": [
    "#set, elements can be int/float/str\n",
    "s1=set(blist)"
   ]
  },
  {
   "cell_type": "code",
   "execution_count": 46,
   "id": "dc92856a",
   "metadata": {},
   "outputs": [
    {
     "data": {
      "text/plain": [
       "{10}"
      ]
     },
     "execution_count": 46,
     "metadata": {},
     "output_type": "execute_result"
    }
   ],
   "source": [
    "s1\n",
    "#is unique elements"
   ]
  },
  {
   "cell_type": "code",
   "execution_count": 1,
   "id": "4abbae4e",
   "metadata": {},
   "outputs": [],
   "source": [
    "#manipulate the data\n",
    "ins1 = [1,1,2,2,3,4,5]\n",
    "ins2=ins1\n",
    "ins3=[x for x in ins1]"
   ]
  },
  {
   "cell_type": "code",
   "execution_count": 2,
   "id": "7f44bd61",
   "metadata": {},
   "outputs": [
    {
     "data": {
      "text/plain": [
       "(0, 1)"
      ]
     },
     "execution_count": 2,
     "metadata": {},
     "output_type": "execute_result"
    }
   ],
   "source": [
    "ins1[0]=0\n",
    "ins2[0],ins3[0]"
   ]
  },
  {
   "cell_type": "code",
   "execution_count": 3,
   "id": "9cba3cb6",
   "metadata": {},
   "outputs": [],
   "source": [
    "ins4=[x for x in ins1 if x>1]"
   ]
  },
  {
   "cell_type": "code",
   "execution_count": 4,
   "id": "a9ce16ac",
   "metadata": {},
   "outputs": [
    {
     "data": {
      "text/plain": [
       "[2, 2, 3, 4, 5]"
      ]
     },
     "execution_count": 4,
     "metadata": {},
     "output_type": "execute_result"
    }
   ],
   "source": [
    "ins4"
   ]
  },
  {
   "cell_type": "code",
   "execution_count": 13,
   "id": "118f4bb0",
   "metadata": {},
   "outputs": [],
   "source": [
    "s1 = [1,2,3,4] + [5,6,7]"
   ]
  },
  {
   "cell_type": "code",
   "execution_count": 4,
   "id": "f33f59ed",
   "metadata": {},
   "outputs": [
    {
     "data": {
      "text/plain": [
       "[1, 2, 3, 4, 5, 6, 7]"
      ]
     },
     "execution_count": 4,
     "metadata": {},
     "output_type": "execute_result"
    }
   ],
   "source": [
    "s1"
   ]
  },
  {
   "cell_type": "code",
   "execution_count": 5,
   "id": "e816dcb1",
   "metadata": {},
   "outputs": [
    {
     "data": {
      "text/plain": [
       "(28, 7)"
      ]
     },
     "execution_count": 5,
     "metadata": {},
     "output_type": "execute_result"
    }
   ],
   "source": [
    "sum(s1), len(s1)"
   ]
  },
  {
   "cell_type": "code",
   "execution_count": 9,
   "id": "a8008fbd",
   "metadata": {},
   "outputs": [
    {
     "name": "stdout",
     "output_type": "stream",
     "text": [
      "0\n",
      "1\n"
     ]
    }
   ],
   "source": [
    "for i in range(0,2):\n",
    "    print(i)"
   ]
  },
  {
   "cell_type": "code",
   "execution_count": 11,
   "id": "7ca3eab4",
   "metadata": {},
   "outputs": [
    {
     "data": {
      "text/plain": [
       "5050"
      ]
     },
     "execution_count": 11,
     "metadata": {},
     "output_type": "execute_result"
    }
   ],
   "source": [
    "#calculate sum from 1 to 100\n",
    "sum([a for a in range(0,101)])"
   ]
  },
  {
   "cell_type": "code",
   "execution_count": 27,
   "id": "e8fe4747",
   "metadata": {},
   "outputs": [
    {
     "data": {
      "text/plain": [
       "[2, 3, 4, 5, 6, 7, 1]"
      ]
     },
     "execution_count": 27,
     "metadata": {},
     "output_type": "execute_result"
    }
   ],
   "source": [
    "#move s1[0] to the end of array, such as [2,3,4...,7,0]\n",
    "s1[1:]+s1[0:1]"
   ]
  },
  {
   "cell_type": "code",
   "execution_count": 14,
   "id": "77c2292e",
   "metadata": {},
   "outputs": [],
   "source": [
    "#set operation\n",
    "set1 = {1,2,3,4}\n",
    "set2 = {3,4,5,6}\n",
    "set3 = set1 & set2\n",
    "set4 = set1 - set2\n",
    "set5 = set1 ^ set2\n",
    "set6 = set1 or set2"
   ]
  },
  {
   "cell_type": "code",
   "execution_count": 15,
   "id": "34adab43",
   "metadata": {},
   "outputs": [
    {
     "data": {
      "text/plain": [
       "({3, 4}, {1, 2}, {1, 2, 5, 6}, {1, 2, 3, 4})"
      ]
     },
     "execution_count": 15,
     "metadata": {},
     "output_type": "execute_result"
    }
   ],
   "source": [
    "set3, set4, set5, set6"
   ]
  },
  {
   "cell_type": "code",
   "execution_count": 16,
   "id": "b31cfc6b",
   "metadata": {},
   "outputs": [
    {
     "data": {
      "text/plain": [
       "(7, 2)"
      ]
     },
     "execution_count": 16,
     "metadata": {},
     "output_type": "execute_result"
    }
   ],
   "source": [
    "sum(set3), len(set3)"
   ]
  },
  {
   "cell_type": "code",
   "execution_count": null,
   "id": "2479ebf8",
   "metadata": {},
   "outputs": [],
   "source": []
  }
 ],
 "metadata": {
  "kernelspec": {
   "display_name": "Python 3 (ipykernel)",
   "language": "python",
   "name": "python3"
  },
  "language_info": {
   "codemirror_mode": {
    "name": "ipython",
    "version": 3
   },
   "file_extension": ".py",
   "mimetype": "text/x-python",
   "name": "python",
   "nbconvert_exporter": "python",
   "pygments_lexer": "ipython3",
   "version": "3.9.7"
  }
 },
 "nbformat": 4,
 "nbformat_minor": 5
}
